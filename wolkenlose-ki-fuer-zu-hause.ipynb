{
 "cells": [
  {
   "metadata": {},
   "cell_type": "markdown",
   "source": [
    "# Wolkenlose KI für zu Hause\n",
    "\n",
    "Dieses Jupyter Notebook enthält die interaktiven Teile zum Vortrag \"Wolkenlose KI für zu Hause\" von den Linuxtagen in Graz am 26.04.2025.\n",
    "\n",
    "Um die Inhalte selbst noch einmal neu zu berechnen sind die in [README.md](README.md) beschriebenen Schritte durchzuführen. Das betrifft inbesondere die Einrichtung einer Python-Umgebung sowie eines PostgreSQL-Servers auf Basis von Docker. Des weiteren ist dort beschrieben, wie die im Vortrag verwendeten Daten aufzubereiten sind."
   ],
   "id": "a619260dfb22c95f"
  },
  {
   "metadata": {},
   "cell_type": "markdown",
   "source": [
    "## Ollama über REST-API\n",
    "\n",
    "Ollama verfügt über eine REST-API, die über HTTP erreichbar ist. Details dazu sind der [Ollama API-Dokumentation](https://github.com/ollama/ollama/blob/main/docs/api.md) zu entnehmen. Die Basis-URL dafür ist:"
   ],
   "id": "5a8b8c1fa13784e7"
  },
  {
   "metadata": {
    "ExecuteTime": {
     "end_time": "2025-04-26T04:11:05.913876Z",
     "start_time": "2025-04-26T04:11:05.911837Z"
    }
   },
   "cell_type": "code",
   "source": [
    "from common.settings import OLLAMA_URL\n",
    "\n",
    "print(OLLAMA_URL)"
   ],
   "id": "110b93932d2539ec",
   "outputs": [
    {
     "name": "stdout",
     "output_type": "stream",
     "text": [
      "http://localhost:11434\n"
     ]
    }
   ],
   "execution_count": 79
  },
  {
   "metadata": {},
   "cell_type": "markdown",
   "source": "Über den API-Endpunkt `/api/generate` können wir eine Anfrage schicken. Die Details sind als JSON zu übergeben, insbesondere das zu verwendende Model (`model`) sowie die Anfrage selbst (`prompt`). Der Parameter `stream` gibt an, ob das Ergebnis nach und nach geschickt werden soll (`True`) oder erst am Ende, wenn die ganze Antwort vollständig vorliegt (`False`). Die Antwort selbst ist wieder als JSON verpackt. Der tatsächliche Text liegt im Eintrag `response`. Des weiteren gibt es noch Einträge für diverse Statistiken und dem aktuellen `context` für Folge-Anfragen.",
   "id": "96f1cc244cebdef8"
  },
  {
   "metadata": {
    "ExecuteTime": {
     "end_time": "2025-04-26T01:50:02.497013Z",
     "start_time": "2025-04-26T01:49:52.944536Z"
    }
   },
   "cell_type": "code",
   "source": [
    "from common.settings import OLLAMA_MODEL\n",
    "import requests\n",
    "\n",
    "response = requests.post(f\"{OLLAMA_URL}/api/generate\", json={\n",
    "    \"model\": OLLAMA_MODEL,\n",
    "    \"prompt\": \"Welche Farbe hat der Himmel?\",\n",
    "    \"stream\": False\n",
    "})\n",
    "response.raise_for_status()\n",
    "print(response.json()[\"response\"])"
   ],
   "id": "54bf7c916eb7368b",
   "outputs": [
    {
     "name": "stdout",
     "output_type": "stream",
     "text": [
      "Die Farbe des Himmels ist ein faszinierendes Phänomen, das auf der Streuung des Sonnenlichts durch die Atmosphäre beruht. Hier ist eine detaillierte Erklärung:\n",
      "\n",
      "*   **Blaues Licht wird stärker gestreut:** Sonnenlicht besteht aus allen Farben des Regenbogens. Wenn das Sonnenlicht in die Erdatmosphäre eintritt, trifft es auf winzige Luftmoleküle (hauptsächlich Stickstoff und Sauerstoff). Diese Moleküle streuen das Sonnenlicht in alle Richtungen. Blaues und violettes Licht haben kürzere Wellenlängen und werden dabei stärker gestreut als andere Farben wie Rot oder Gelb.\n",
      "*   **Warum ist der Himmel nicht violett?** Obwohl violettes Licht stärker gestreut wird als blaues, ist der Himmel meist blau, weil:\n",
      "    *   Die Sonne selbst emittiert etwas mehr blaues Licht als blaues Licht.\n",
      "    *   Unsere Augen sind empfindlicher für blaues Licht als für violettes.\n",
      "*   **Sonnenaufgang und Sonnenuntergang:** Wenn die Sonne tief am Horizont steht, muss das Sonnenlicht einen längeren Weg durch die Atmosphäre zurücklegen. Dabei wird das blaue Licht fast vollständig gestreut, bevor es unsere Augen erreicht. Die längeren Wellenlängen des roten und orangen Lichts werden weniger gestreut und dominieren dann die Farbe des Himmels.\n",
      "\n",
      "**Zusammenfassend lässt sich sagen, dass der Himmel meist blau erscheint, weil blaues Licht durch die Streuung stärker gestreut wird.**\n",
      "\n",
      "Es ist wichtig zu beachten, dass die Farbe des Himmels auch von Faktoren wie Wolken, Luftfeuchtigkeit und der Zeit des Tages abhängt.\n"
     ]
    }
   ],
   "execution_count": 2
  },
  {
   "metadata": {},
   "cell_type": "markdown",
   "source": [
    "Zusätzlich können optionale Parameter speziellere Themen abdecken, insbesondere:\n",
    "- `system`: TOOD\n",
    "- TODO"
   ],
   "id": "6fb9e688f5128a73"
  },
  {
   "metadata": {},
   "cell_type": "markdown",
   "source": [
    "Darüber hinaus es noch möglich, mit `options` verschiedene [Detaileinstellungen aus der Modell-Datei](https://github.com/ollama/ollama/blob/main/docs/modelfile.md#valid-parameters-and-values) zu überschreiben. Damit lässt sich insbesondere steuern, wie kreativ die Antwort sein darf. Einige der wichtigsten Parameter dafür sind:\n",
    "- `nun_ctx`: Größe des Kontextfensters, auf das Bezug genommen werden kann, um den nächsten Token zu generieren. Voreinstellung: 2048.\n",
    "- `temperatur`: Je höher, desto kreativer werden die Antworten. Voreinstellung: 0,8.\n",
    "- `top_k`: Steuert die Wahrscheinlichkeit, Unsinn zu erzeugen. Je niedriger, desto konservativer sind die Antworten. Der niedrigste Wert ist 0, nach oben gibt es keine Grenze, wobei 100 ein empfohlener Wert für abwechslungsreiche Antworten zu sein scheint. Voreinstellung: 40.\n",
    "- `top_p`: Zwischen 0 und 1, arbeitet mit `top_k` zusammen. Je niedriger, desto konservativer sind die Antworten. Voreinstellung: 0,9."
   ],
   "id": "46fd17b951adbf99"
  },
  {
   "metadata": {
    "ExecuteTime": {
     "end_time": "2025-04-26T02:44:23.870774Z",
     "start_time": "2025-04-26T02:44:21.714855Z"
    }
   },
   "cell_type": "code",
   "source": [
    "response = requests.post(f\"{OLLAMA_URL}/api/generate\", json={\n",
    "    \"model\": OLLAMA_MODEL,\n",
    "    \"prompt\": \"Schreib ein surreales Haiku über eine steirische Weinbergschnecke.\",\n",
    "    \"system\": (\n",
    "        \"Du bist ein steirischer Volksdichter. \"\n",
    "        \"In deiner Jugend hast du einige erfolgreichen Werke geschrieben. \"\n",
    "        \"Inzwischen lebst von verschiedenen Sozialleistungen. \"\n",
    "        \"Den meisten Tag bist du besoffen. \"\n",
    "        \"Trotzdem oder gerade deswegen bist du ein wichtiger Teil der steirischen Kulturlandschaft.\"\n",
    "    ),\n",
    "    \"options\": {\n",
    "        \"temperatur\": 0.98,\n",
    "        \"top_k\": 100,\n",
    "        \"top_p\": 0.99,\n",
    "    },\n",
    "    \"stream\": False\n",
    "})\n",
    "response.raise_for_status()\n",
    "print(response.json()[\"response\"])"
   ],
   "id": "7aad6436dc31b067",
   "outputs": [
    {
     "name": "stdout",
     "output_type": "stream",
     "text": [
      "Okay, hier ist ein Haiku im steirischen Stil, mit einem Hauch von Surrealismus, passend zu meiner Situation:\n",
      "\n",
      "Weinberg-Schnecke träumt,\n",
      "von Trauben, die zu Sternen weinen,\n",
      "Grauburgunder-Dämmerung.\n",
      "\n",
      "Wie findest du es? Soll ich noch eins versuchen, vielleicht mit mehr \"Steirisch-Schleim\"?\n"
     ]
    }
   ],
   "execution_count": 63
  },
  {
   "metadata": {},
   "cell_type": "markdown",
   "source": [
    "## Eigene Dokumente\n",
    "\n",
    "Die Beispiel-Daten aus eigenen Dokumenten für dieses Notebook liegen im Ordner \"data\". Das Python-Paket `prepare` enthält Skripte, um PDF-Dateien von einer Webseite zu laden und diese in das Markdown-Format umzuwandeln."
   ],
   "id": "f7beedfa765390aa"
  },
  {
   "metadata": {},
   "cell_type": "markdown",
   "source": "Zuerst erstellen wir eine Aufstellung der verfügbaren PDF-Dateien, und leiten daraus die abgeleiteten Pfade für Markdown-Dateien ab:",
   "id": "b03b583f4e4c7ff0"
  },
  {
   "metadata": {
    "ExecuteTime": {
     "end_time": "2025-04-26T01:50:28.381223Z",
     "start_time": "2025-04-26T01:50:28.376455Z"
    }
   },
   "cell_type": "code",
   "source": [
    "import requests\n",
    "from common.settings import DATA_FOLDER\n",
    "\n",
    "pdf_to_document_folder_map = {pdf_path: pdf_path.with_name(pdf_path.stem) for pdf_path in DATA_FOLDER.glob(\"*.pdf\")}\n",
    "pdf_to_to_markdown_path_map = {pdf_path:  pdf_to_document_folder_map[pdf_path] / \"README.md\" for pdf_path in pdf_to_document_folder_map.keys()}\n",
    "document_folders = sorted(pdf_to_document_folder_map.values())\n",
    "markdown_paths = sorted(pdf_to_to_markdown_path_map.values())\n",
    "\n",
    "for markdown_path in markdown_paths[:3]:\n",
    "    print(str(markdown_path))"
   ],
   "id": "eb623b0c86672258",
   "outputs": [
    {
     "name": "stdout",
     "output_type": "stream",
     "text": [
      "/Users/roskakori/workspace/wolkenlose-ki-fuer-zu-hause/data/1.VJ2022_web/README.md\n",
      "/Users/roskakori/workspace/wolkenlose-ki-fuer-zu-hause/data/1.VJ2023_web/README.md\n",
      "/Users/roskakori/workspace/wolkenlose-ki-fuer-zu-hause/data/1.VJ2024_web/README.md\n"
     ]
    }
   ],
   "execution_count": 4
  },
  {
   "metadata": {},
   "cell_type": "markdown",
   "source": [
    "Nun lesen wir die Markdown-Dateien ein und teilen sie in Artikel auf. In dieser bewusst einfach gehaltenen Implementierung beginnt ein neuer Artikel, sobald eine Markdown-Überschrift aufscheint, z.B. `## Das ist eine Überschrift der 2. Ebene`.\n",
    "\n",
    "In der Praxis würde man sich Gedanken machen, welche Überschriften-Ebenen einen neuen Artikel kennzeichnen, und wie mit Quellcode-Beispielen umzugehen ist, die auch `#` enthalten können (z.B. Kommentare in Python oder Shell-Skripten)."
   ],
   "id": "733e0794dfe4dbd7"
  },
  {
   "metadata": {
    "ExecuteTime": {
     "end_time": "2025-04-26T02:25:59.110699Z",
     "start_time": "2025-04-26T02:25:59.106042Z"
    }
   },
   "cell_type": "code",
   "source": [
    "from fnmatch import fnmatchcase\n",
    "from pathlib import Path\n",
    "\n",
    "from common.settings import MIN_ARTICLE_LINE_COUNT\n",
    "\n",
    "def articles_from_markdown(markdown_path: Path):\n",
    "    \"\"\"\n",
    "    Articles extracted from `readme_path` by looking at Markdown headings.\n",
    "    This excludes articles that have little content, which typically means they\n",
    "    are small information pieces or ads.\n",
    "    \"\"\"\n",
    "    for article in raw_articles_from_markdown(markdown_path):\n",
    "        content_line_count = 0\n",
    "        for line in article.strip(\" \\n\").splitlines():\n",
    "            if line.strip() != \"\" and not line.startswith(\"![](\"):\n",
    "                if content_line_count == MIN_ARTICLE_LINE_COUNT:\n",
    "                    yield article\n",
    "                    break\n",
    "                else:\n",
    "                    content_line_count += 1\n",
    "\n",
    "def raw_articles_from_markdown(markdown_path: Path):\n",
    "    \"\"\"\n",
    "    Articles extracted from `readme_path` by looking at Markdown headings.\n",
    "    Lines referring to images are ignored.\n",
    "    \"\"\"\n",
    "    result = \"\"\n",
    "    with open(markdown_path, \"r\") as readme_file:\n",
    "        for line in readme_file:\n",
    "            if line.startswith(\"#\"):\n",
    "                yield result\n",
    "                result = line\n",
    "            elif not fnmatchcase(line.strip(), \"???(_page_*_Picture_*.*)*\"):\n",
    "                result += line\n",
    "    # Yield the last article.\n",
    "    yield result"
   ],
   "id": "277ce0f9fc645e44",
   "outputs": [],
   "execution_count": 53
  },
  {
   "metadata": {},
   "cell_type": "markdown",
   "source": "Damit lässt sich bereits ein Mengengerüst zu den gefundenen Dokumenten und darin enthaltenen Artikeln erstellen:",
   "id": "bc90ce359950d83e"
  },
  {
   "metadata": {
    "ExecuteTime": {
     "end_time": "2025-04-26T02:26:03.412479Z",
     "start_time": "2025-04-26T02:26:03.385266Z"
    }
   },
   "cell_type": "code",
   "source": [
    "import pandas as pd\n",
    "sorted_pdf_paths = sorted(pdf_to_document_folder_map.keys())\n",
    "article_counts = {\n",
    "    \"Dokument\": [pdf_path.name for pdf_path in sorted_pdf_paths],\n",
    "    \"Anzahl der Artikel\": [len(list(articles_from_markdown(pdf_to_to_markdown_path_map[pdf_path]))) for pdf_path in sorted_pdf_paths],\n",
    "}\n",
    "pd.DataFrame(article_counts)"
   ],
   "id": "4251082efd57c5f",
   "outputs": [
    {
     "data": {
      "text/plain": [
       "             Dokument  Anzahl der Artikel\n",
       "0    1.VJ2022_web.pdf                  27\n",
       "1    1.VJ2023_web.pdf                  22\n",
       "2    1.VJ2024_web.pdf                  26\n",
       "3    1.VJ2025_web.pdf                  26\n",
       "4       1.VJ_2019.pdf                  21\n",
       "5       1.VJ_2020.pdf                  18\n",
       "6   1.VJ_2021_red.pdf                  24\n",
       "7    2.VJ2022_web.pdf                  27\n",
       "8    2.VJ2023_web.pdf                  21\n",
       "9    2.VJ2024_web.pdf                  25\n",
       "10  2.VJ_2019_web.pdf                  18\n",
       "11  2.VJ_2020_web.pdf                  28\n",
       "12  2.VJ_2021_web.pdf                  17\n",
       "13   3.VJ2022_web.pdf                  24\n",
       "14   3.VJ2023_web.pdf                  21\n",
       "15    3.VJ2024web.pdf                  19\n",
       "16      3.VJ_2019.pdf                  20\n",
       "17  3.VJ_2020_web.pdf                  15\n",
       "18  3.VJ_2021_red.pdf                  22\n",
       "19  4.VJ-2023_web.pdf                  22\n",
       "20   4.VJ2022_web.pdf                  25\n",
       "21   4.VJ2024_web.pdf                  28\n",
       "22      4.VJ_2019.pdf                  22\n",
       "23  4.VJ_2020_web.pdf                  20\n",
       "24  4.VJ_2021_web.pdf                  27"
      ],
      "text/html": [
       "<div>\n",
       "<style scoped>\n",
       "    .dataframe tbody tr th:only-of-type {\n",
       "        vertical-align: middle;\n",
       "    }\n",
       "\n",
       "    .dataframe tbody tr th {\n",
       "        vertical-align: top;\n",
       "    }\n",
       "\n",
       "    .dataframe thead th {\n",
       "        text-align: right;\n",
       "    }\n",
       "</style>\n",
       "<table border=\"1\" class=\"dataframe\">\n",
       "  <thead>\n",
       "    <tr style=\"text-align: right;\">\n",
       "      <th></th>\n",
       "      <th>Dokument</th>\n",
       "      <th>Anzahl der Artikel</th>\n",
       "    </tr>\n",
       "  </thead>\n",
       "  <tbody>\n",
       "    <tr>\n",
       "      <th>0</th>\n",
       "      <td>1.VJ2022_web.pdf</td>\n",
       "      <td>27</td>\n",
       "    </tr>\n",
       "    <tr>\n",
       "      <th>1</th>\n",
       "      <td>1.VJ2023_web.pdf</td>\n",
       "      <td>22</td>\n",
       "    </tr>\n",
       "    <tr>\n",
       "      <th>2</th>\n",
       "      <td>1.VJ2024_web.pdf</td>\n",
       "      <td>26</td>\n",
       "    </tr>\n",
       "    <tr>\n",
       "      <th>3</th>\n",
       "      <td>1.VJ2025_web.pdf</td>\n",
       "      <td>26</td>\n",
       "    </tr>\n",
       "    <tr>\n",
       "      <th>4</th>\n",
       "      <td>1.VJ_2019.pdf</td>\n",
       "      <td>21</td>\n",
       "    </tr>\n",
       "    <tr>\n",
       "      <th>5</th>\n",
       "      <td>1.VJ_2020.pdf</td>\n",
       "      <td>18</td>\n",
       "    </tr>\n",
       "    <tr>\n",
       "      <th>6</th>\n",
       "      <td>1.VJ_2021_red.pdf</td>\n",
       "      <td>24</td>\n",
       "    </tr>\n",
       "    <tr>\n",
       "      <th>7</th>\n",
       "      <td>2.VJ2022_web.pdf</td>\n",
       "      <td>27</td>\n",
       "    </tr>\n",
       "    <tr>\n",
       "      <th>8</th>\n",
       "      <td>2.VJ2023_web.pdf</td>\n",
       "      <td>21</td>\n",
       "    </tr>\n",
       "    <tr>\n",
       "      <th>9</th>\n",
       "      <td>2.VJ2024_web.pdf</td>\n",
       "      <td>25</td>\n",
       "    </tr>\n",
       "    <tr>\n",
       "      <th>10</th>\n",
       "      <td>2.VJ_2019_web.pdf</td>\n",
       "      <td>18</td>\n",
       "    </tr>\n",
       "    <tr>\n",
       "      <th>11</th>\n",
       "      <td>2.VJ_2020_web.pdf</td>\n",
       "      <td>28</td>\n",
       "    </tr>\n",
       "    <tr>\n",
       "      <th>12</th>\n",
       "      <td>2.VJ_2021_web.pdf</td>\n",
       "      <td>17</td>\n",
       "    </tr>\n",
       "    <tr>\n",
       "      <th>13</th>\n",
       "      <td>3.VJ2022_web.pdf</td>\n",
       "      <td>24</td>\n",
       "    </tr>\n",
       "    <tr>\n",
       "      <th>14</th>\n",
       "      <td>3.VJ2023_web.pdf</td>\n",
       "      <td>21</td>\n",
       "    </tr>\n",
       "    <tr>\n",
       "      <th>15</th>\n",
       "      <td>3.VJ2024web.pdf</td>\n",
       "      <td>19</td>\n",
       "    </tr>\n",
       "    <tr>\n",
       "      <th>16</th>\n",
       "      <td>3.VJ_2019.pdf</td>\n",
       "      <td>20</td>\n",
       "    </tr>\n",
       "    <tr>\n",
       "      <th>17</th>\n",
       "      <td>3.VJ_2020_web.pdf</td>\n",
       "      <td>15</td>\n",
       "    </tr>\n",
       "    <tr>\n",
       "      <th>18</th>\n",
       "      <td>3.VJ_2021_red.pdf</td>\n",
       "      <td>22</td>\n",
       "    </tr>\n",
       "    <tr>\n",
       "      <th>19</th>\n",
       "      <td>4.VJ-2023_web.pdf</td>\n",
       "      <td>22</td>\n",
       "    </tr>\n",
       "    <tr>\n",
       "      <th>20</th>\n",
       "      <td>4.VJ2022_web.pdf</td>\n",
       "      <td>25</td>\n",
       "    </tr>\n",
       "    <tr>\n",
       "      <th>21</th>\n",
       "      <td>4.VJ2024_web.pdf</td>\n",
       "      <td>28</td>\n",
       "    </tr>\n",
       "    <tr>\n",
       "      <th>22</th>\n",
       "      <td>4.VJ_2019.pdf</td>\n",
       "      <td>22</td>\n",
       "    </tr>\n",
       "    <tr>\n",
       "      <th>23</th>\n",
       "      <td>4.VJ_2020_web.pdf</td>\n",
       "      <td>20</td>\n",
       "    </tr>\n",
       "    <tr>\n",
       "      <th>24</th>\n",
       "      <td>4.VJ_2021_web.pdf</td>\n",
       "      <td>27</td>\n",
       "    </tr>\n",
       "  </tbody>\n",
       "</table>\n",
       "</div>"
      ]
     },
     "execution_count": 54,
     "metadata": {},
     "output_type": "execute_result"
    }
   ],
   "execution_count": 54
  },
  {
   "metadata": {},
   "cell_type": "markdown",
   "source": "Hier ist ein Beispiel, wie ein konkreter Artikel aussehen kann:",
   "id": "a277839085ab8f8c"
  },
  {
   "metadata": {
    "ExecuteTime": {
     "end_time": "2025-04-26T02:26:10.970447Z",
     "start_time": "2025-04-26T02:26:10.966718Z"
    }
   },
   "cell_type": "code",
   "source": "print(next(article for article in articles_from_markdown(markdown_paths[0]) if \"Lärmschutzverordnung\" in article))",
   "id": "38b5cdd202af1d5c",
   "outputs": [
    {
     "name": "stdout",
     "output_type": "stream",
     "text": [
      "## **Lärmschutzverordnung**\n",
      "\n",
      "Die Verwendung von motorbetriebenen Rasenmähern sowie die Durchführung von vergleichbaren lärmerregenden Arbeiten\n",
      "\n",
      "(Verwenden von Kreissägen, Presslufthämmern und dergl.) ist von\n",
      "\n",
      "**Montag bis Freitag** nur in der Zeit von **06:00 Uhr bis 21:00 Uhr**\n",
      "\n",
      "**Samstag** nur in der Zeit von **06:00 Uhr bis 18:00 Uhr** gestattet.\n",
      "\n",
      "**An Sonn- und Feiertagen sind diese Arbeiten ganztägig verboten.**\n",
      "\n",
      "Land- und forstwirtschaftliche Tätigkeiten sowie Arbeiten der gewerblichen Gärtnereien und solche der kommunalen Betriebe im Rahmen der Betreuung der öffentlichen Anlagen sind von dieser Regelung ausgenommen.\n",
      "\n",
      "\n"
     ]
    }
   ],
   "execution_count": 55
  },
  {
   "metadata": {},
   "cell_type": "markdown",
   "source": [
    "## Daten in SQL-Datenbank speichern\n",
    "\n",
    "Nun wollen wir die Daten in die SQL-Datenbanke legen, damit wir darauf einfach zugreifen können. Bevor wir die zugehörigen Tabellen anlegen, verwerfen wir diese zuerst, damit wir diese Schritte jederzeit wiederholen können. Insbesondere dann, wenn sich die Tabellen in ihrer Struktur geändert haben."
   ],
   "id": "7ce139c0e6ada128"
  },
  {
   "metadata": {
    "SqlCellData": {
     "data_source_name": "gemeinde@localhost",
     "variableName$1": "df_sql1"
    },
    "ExecuteTime": {
     "end_time": "2025-04-26T01:56:56.456695Z",
     "start_time": "2025-04-26T01:56:56.424161Z"
    }
   },
   "cell_type": "code",
   "source": [
    "%%sql\n",
    "drop table if exists article;\n",
    "drop table if exists document;"
   ],
   "id": "cbfc0d341ed4b669",
   "execution_count": null,
   "outputs": []
  },
  {
   "metadata": {},
   "cell_type": "markdown",
   "source": "Nun können wir die Tabellen für Dokument und Artikel anlegen. Dokumente merken sich den Namen und den Pfad, von dem das jeweilige Markdown-Dokument stammt.",
   "id": "df09e73378aa6ff9"
  },
  {
   "metadata": {
    "SqlCellData": {
     "data_source_name": "gemeinde@localhost",
     "variableName$1": "df_sql2"
    }
   },
   "cell_type": "code",
   "source": [
    "%%sql\n",
    "create table document (\n",
    "    pdf_path text primary key,\n",
    "    markdown_path text\n",
    ");\n",
    "\n",
    "create table article (\n",
    "    pdf_path text references document(pdf_path),\n",
    "    id serial primary key,\n",
    "    heading text,\n",
    "    content text\n",
    ");"
   ],
   "id": "74fcc7a6b859f192",
   "outputs": [],
   "execution_count": null
  },
  {
   "metadata": {},
   "cell_type": "markdown",
   "source": "Nun können wir die Daten in die Tabellen laden:",
   "id": "da0397da5121614"
  },
  {
   "metadata": {
    "ExecuteTime": {
     "end_time": "2025-04-26T02:26:23.498991Z",
     "start_time": "2025-04-26T02:26:23.294413Z"
    }
   },
   "cell_type": "code",
   "source": [
    "from common.settings import POSTGRES_URI\n",
    "import psycopg\n",
    "\n",
    "with psycopg.connect(POSTGRES_URI) as connection, connection.cursor() as cursor:\n",
    "    cursor.execute(\"truncate table article\")\n",
    "    cursor.execute(\"truncate table document cascade\")\n",
    "    for markdown_path in markdown_paths:\n",
    "        pdf_path = markdown_path.parent.with_name(markdown_path.parent.name + \".pdf\")\n",
    "        cursor.execute(\n",
    "            \"insert into document (pdf_path, markdown_path) values (%s, %s)\",\n",
    "            (str(pdf_path), str(markdown_path)),\n",
    "        )\n",
    "        for article in articles_from_markdown(markdown_path):\n",
    "            article_lines = article.splitlines()\n",
    "            first_line = article_lines[0]\n",
    "            if first_line.startswith(\"#\"):\n",
    "                heading = first_line.replace(\"**\", \"\").lstrip(\"# \")\n",
    "                content = \"\\n\".join(article_lines[1:]).strip(\"\\n\")\n",
    "            else:\n",
    "                heading = \"\"\n",
    "                content = article\n",
    "            cursor.execute(\n",
    "                \"insert into article (pdf_path, heading, content) values (%s, %s, %s)\",\n",
    "                (str(pdf_path), heading, content),\n",
    "            )"
   ],
   "id": "1c0aa6e059054940",
   "outputs": [],
   "execution_count": 57
  },
  {
   "metadata": {},
   "cell_type": "markdown",
   "source": [
    "## Relevante Artikel mit Volltextsuche\n",
    "\n",
    "Basis dafür sind Texte, die in sogenannte Token umgewandelt sind. Diese ermöglicht eine effiziente Speicherung und Suche, da ein Token als eine einzelne Zahl abgebildet werden kann, unabhängig von der Anzahl der Buchstaben des dahinterliegenden Wortes."
   ],
   "id": "f63fa03d758954c"
  },
  {
   "metadata": {
    "SqlCellData": {
     "data_source_name": "gemeinde@localhost",
     "variableName$1": "df_sql5"
    },
    "ExecuteTime": {
     "end_time": "2025-04-26T01:57:15.530005Z",
     "start_time": "2025-04-26T01:57:15.484554Z"
    }
   },
   "cell_type": "code",
   "source": [
    "%%sql\n",
    "select to_tsvector('german', 'Zu welchen Uhrzeiten darf ich rasenmähen?');"
   ],
   "id": "f20f7336ae35d83f",
   "outputs": [
    {
     "data": {
      "text/plain": [
       "                         to_tsvector\n",
       "0  'darf':4 'rasenmah':6 'uhrzeit':3"
      ],
      "text/html": [
       "<div>\n",
       "<style scoped>\n",
       "    .dataframe tbody tr th:only-of-type {\n",
       "        vertical-align: middle;\n",
       "    }\n",
       "\n",
       "    .dataframe tbody tr th {\n",
       "        vertical-align: top;\n",
       "    }\n",
       "\n",
       "    .dataframe thead th {\n",
       "        text-align: right;\n",
       "    }\n",
       "</style>\n",
       "<table border=\"1\" class=\"dataframe\">\n",
       "  <thead>\n",
       "    <tr style=\"text-align: right;\">\n",
       "      <th></th>\n",
       "      <th>to_tsvector</th>\n",
       "    </tr>\n",
       "  </thead>\n",
       "  <tbody>\n",
       "    <tr>\n",
       "      <th>0</th>\n",
       "      <td>'darf':4 'rasenmah':6 'uhrzeit':3</td>\n",
       "    </tr>\n",
       "  </tbody>\n",
       "</table>\n",
       "</div>"
      ]
     },
     "execution_count": 24,
     "metadata": {},
     "output_type": "execute_result"
    }
   ],
   "execution_count": 24
  },
  {
   "metadata": {},
   "cell_type": "markdown",
   "source": [
    "Erläuterung:\n",
    "- \"Zu\", \"welchen\", \"ich\" entfallen, da sie Stoppwörter sind.\n",
    "- Das fehlende \"-en\" in \"rasenmah\" und \"uhrzeit\" ist eine Folge der Stammwort-Bildung. Diese basiert nicht auf der deutschen Grammatik sondern einfachen Regeln für Buchstaben-Muster.\n",
    "- Alle Wörter sind in Kleinschrift um Umlaute in den nächsten Vokal umgewandelt, z.B. \"rasenmah\"."
   ],
   "id": "ef9bb2e7f4433c47"
  },
  {
   "metadata": {
    "SqlCellData": {
     "data_source_name": "gemeinde@localhost",
     "variableName$1": "df_sql3"
    },
    "ExecuteTime": {
     "end_time": "2025-04-26T02:26:31.560641Z",
     "start_time": "2025-04-26T02:26:31.378216Z"
    }
   },
   "cell_type": "code",
   "source": [
    "%%sql\n",
    "select\n",
    "    ts_rank(\n",
    "        (\n",
    "            setweight(to_tsvector('german', heading), 'A')\n",
    "            || setweight(to_tsvector('german', content), 'B')\n",
    "        ),\n",
    "        to_tsquery('german', 'Feuerwehr | Jubiläum' )\n",
    "    ) as rank,\n",
    "    id,\n",
    "    heading,\n",
    "    content\n",
    "from\n",
    "    article\n",
    "where\n",
    "    -- Only consider articles that contain the search terms.\n",
    "    to_tsvector('german', heading) || to_tsvector('german', content) @@ to_tsquery('german', 'Feuerwehr | Jubiläum')\n",
    "order by\n",
    "    rank desc, id\n",
    "limit 5;"
   ],
   "id": "b83ef50f012a0a25",
   "outputs": [
    {
     "data": {
      "text/plain": [
       "       rank    id                                            heading  \\\n",
       "0  0.477054  1462  Besuch Musikverein Wilfersdorf und Umgebung Gr...   \n",
       "1  0.368090  1223  ÜBERGABE DES FRIEDENSLICHTES AN DIE FEUERWEHRE...   \n",
       "2  0.368090  1439  120 - Jahr - Feier Freiwillige Feuerwehr Edels...   \n",
       "3  0.360332  1335  Jugendfeuerwehrmitglieder schreiten in unserer...   \n",
       "4  0.355469  1390  *Wechsel an der Spitze der Freiwilligen Feuerw...   \n",
       "\n",
       "                                             content  \n",
       "0  Unser traditioneller Frühschoppen - Laurentius...  \n",
       "1  Eine besondere Ehre war es für unsere Feuerweh...  \n",
       "2  Nach dem 19. Jahrhundert waren Bewohner unsere...  \n",
       "3  Bereits mit Jahresbeginn und auch schon 2022 h...  \n",
       "4  Unlängst gab es einen historischen Wechsel im ...  "
      ],
      "text/html": [
       "<div>\n",
       "<style scoped>\n",
       "    .dataframe tbody tr th:only-of-type {\n",
       "        vertical-align: middle;\n",
       "    }\n",
       "\n",
       "    .dataframe tbody tr th {\n",
       "        vertical-align: top;\n",
       "    }\n",
       "\n",
       "    .dataframe thead th {\n",
       "        text-align: right;\n",
       "    }\n",
       "</style>\n",
       "<table border=\"1\" class=\"dataframe\">\n",
       "  <thead>\n",
       "    <tr style=\"text-align: right;\">\n",
       "      <th></th>\n",
       "      <th>rank</th>\n",
       "      <th>id</th>\n",
       "      <th>heading</th>\n",
       "      <th>content</th>\n",
       "    </tr>\n",
       "  </thead>\n",
       "  <tbody>\n",
       "    <tr>\n",
       "      <th>0</th>\n",
       "      <td>0.477054</td>\n",
       "      <td>1462</td>\n",
       "      <td>Besuch Musikverein Wilfersdorf und Umgebung Gr...</td>\n",
       "      <td>Unser traditioneller Frühschoppen - Laurentius...</td>\n",
       "    </tr>\n",
       "    <tr>\n",
       "      <th>1</th>\n",
       "      <td>0.368090</td>\n",
       "      <td>1223</td>\n",
       "      <td>ÜBERGABE DES FRIEDENSLICHTES AN DIE FEUERWEHRE...</td>\n",
       "      <td>Eine besondere Ehre war es für unsere Feuerweh...</td>\n",
       "    </tr>\n",
       "    <tr>\n",
       "      <th>2</th>\n",
       "      <td>0.368090</td>\n",
       "      <td>1439</td>\n",
       "      <td>120 - Jahr - Feier Freiwillige Feuerwehr Edels...</td>\n",
       "      <td>Nach dem 19. Jahrhundert waren Bewohner unsere...</td>\n",
       "    </tr>\n",
       "    <tr>\n",
       "      <th>3</th>\n",
       "      <td>0.360332</td>\n",
       "      <td>1335</td>\n",
       "      <td>Jugendfeuerwehrmitglieder schreiten in unserer...</td>\n",
       "      <td>Bereits mit Jahresbeginn und auch schon 2022 h...</td>\n",
       "    </tr>\n",
       "    <tr>\n",
       "      <th>4</th>\n",
       "      <td>0.355469</td>\n",
       "      <td>1390</td>\n",
       "      <td>*Wechsel an der Spitze der Freiwilligen Feuerw...</td>\n",
       "      <td>Unlängst gab es einen historischen Wechsel im ...</td>\n",
       "    </tr>\n",
       "  </tbody>\n",
       "</table>\n",
       "</div>"
      ]
     },
     "execution_count": 58,
     "metadata": {},
     "output_type": "execute_result"
    }
   ],
   "execution_count": 58
  },
  {
   "metadata": {},
   "cell_type": "markdown",
   "source": "Hinweis: Diese Abfrage ist bewusst einfach gehalten. In der Praxis würde man die Daten [in Bezug auf Volltextsuche indizieren](https://www.postgresql.org/docs/current/textsearch-tables.html#TEXTSEARCH-TABLES-INDEX) und besseren zum Umgang mit Dokumenten unterschiedlicher Länge eine [Normalisierung](https://www.postgresql.org/docs/current/textsearch-controls.html#TEXTSEARCH-RANKING) angeben.",
   "id": "2be93f773e5ecefa"
  },
  {
   "metadata": {
    "ExecuteTime": {
     "end_time": "2025-04-26T02:14:28.549550Z",
     "start_time": "2025-04-26T02:14:28.546773Z"
    }
   },
   "cell_type": "code",
   "source": [
    "import re\n",
    "\n",
    "def ts_query_expression(human_query: str) -> str:\n",
    "    return \" | \".join([word for word in re.split(r\"\\W+\", human_query) if word != \"\"])\n",
    "\n",
    "print(ts_query_expression(\"Wer besuchte das Jubiläum der Feuerwehr?\"))\n"
   ],
   "id": "43a3723be71069cd",
   "outputs": [
    {
     "name": "stdout",
     "output_type": "stream",
     "text": [
      "Wer | besuchte | das | Jubiläum | der | Feuerwehr\n"
     ]
    }
   ],
   "execution_count": 36
  },
  {
   "metadata": {
    "SqlCellData": {
     "data_source_name": "gemeinde@localhost",
     "variableName$1": "df_sql4"
    },
    "ExecuteTime": {
     "end_time": "2025-04-26T02:14:41.663896Z",
     "start_time": "2025-04-26T02:14:41.608226Z"
    }
   },
   "cell_type": "code",
   "source": [
    "%%sql\n",
    "select to_tsquery('german', 'Wer | besuchte | das | Jubiläum | der | Feuerwehr')"
   ],
   "id": "a91c6f9a6d244195",
   "outputs": [
    {
     "data": {
      "text/plain": [
       "                                     to_tsquery\n",
       "0  'wer' | 'besucht' | 'jubilaum' | 'feuerwehr'"
      ],
      "text/html": [
       "<div>\n",
       "<style scoped>\n",
       "    .dataframe tbody tr th:only-of-type {\n",
       "        vertical-align: middle;\n",
       "    }\n",
       "\n",
       "    .dataframe tbody tr th {\n",
       "        vertical-align: top;\n",
       "    }\n",
       "\n",
       "    .dataframe thead th {\n",
       "        text-align: right;\n",
       "    }\n",
       "</style>\n",
       "<table border=\"1\" class=\"dataframe\">\n",
       "  <thead>\n",
       "    <tr style=\"text-align: right;\">\n",
       "      <th></th>\n",
       "      <th>to_tsquery</th>\n",
       "    </tr>\n",
       "  </thead>\n",
       "  <tbody>\n",
       "    <tr>\n",
       "      <th>0</th>\n",
       "      <td>'wer' | 'besucht' | 'jubilaum' | 'feuerwehr'</td>\n",
       "    </tr>\n",
       "  </tbody>\n",
       "</table>\n",
       "</div>"
      ]
     },
     "execution_count": 37,
     "metadata": {},
     "output_type": "execute_result"
    }
   ],
   "execution_count": 37
  },
  {
   "metadata": {},
   "cell_type": "markdown",
   "source": "Zusammengefasst eine Python-Funktion, um die am besten passenden Dokumente für eine Anfrage zu liefern:",
   "id": "f07afa8f8865fa80"
  },
  {
   "metadata": {
    "ExecuteTime": {
     "end_time": "2025-04-26T04:01:48.070316Z",
     "start_time": "2025-04-26T04:01:48.067178Z"
    }
   },
   "cell_type": "code",
   "source": [
    "from dataclasses import dataclass\n",
    "from psycopg.rows import class_row\n",
    "\n",
    "@dataclass\n",
    "class Article:\n",
    "    rank: float\n",
    "    id: int\n",
    "    heading: str\n",
    "    content: str\n",
    "    pdf_path: str\n",
    "\n",
    "def articles_for_prompt_fts(prompt: str) -> list[Article]:\n",
    "    with (\n",
    "        psycopg.connect(POSTGRES_URI) as connection,\n",
    "        connection.cursor(row_factory=class_row(Article)) as cursor\n",
    "    ):\n",
    "        return cursor.execute(\n",
    "            \"\"\"\n",
    "            select\n",
    "                ts_rank(\n",
    "                    (\n",
    "                        setweight(to_tsvector('german', heading), 'A')\n",
    "                        || setweight(to_tsvector('german', content), 'B')\n",
    "                    ),\n",
    "                    to_tsquery('german', %(search_terms)s)\n",
    "                ) as rank,\n",
    "                id,\n",
    "                heading,\n",
    "                content,\n",
    "                pdf_path\n",
    "            from\n",
    "                article\n",
    "            where\n",
    "                -- Only consider articles that contain the search terms.\n",
    "                to_tsvector('german', heading) || to_tsvector('german', content) @@ to_tsquery('german', %(search_terms)s)\n",
    "            order by\n",
    "                rank desc\n",
    "            limit 4;\n",
    "            \"\"\",\n",
    "            {\"search_terms\": ts_query_expression(prompt)},\n",
    "        ).fetchall()"
   ],
   "id": "f246f9df591b1c84",
   "outputs": [],
   "execution_count": 75
  },
  {
   "metadata": {},
   "cell_type": "markdown",
   "source": "Nun können wir Anfragen schicken, z.B. 'Wer besuchte das Jubiläum der Feuerwehr?', und erhalten dazu gefundene Artikel:",
   "id": "b42974be6c1d5b01"
  },
  {
   "metadata": {
    "ExecuteTime": {
     "end_time": "2025-04-26T02:15:57.159196Z",
     "start_time": "2025-04-26T02:15:57.013853Z"
    }
   },
   "cell_type": "code",
   "source": [
    "pd.DataFrame(\n",
    "    [(article.heading, article.rank) for article in articles_for_prompt_fts('Wer besuchte das Jubiläum der Feuerwehr?')],\n",
    "    columns=[\"Artikel\", \"Rank\"]\n",
    ")"
   ],
   "id": "413e75049ab2188f",
   "outputs": [
    {
     "data": {
      "text/plain": [
       "                                             Artikel      Rank\n",
       "0  Besuch Musikverein Wilfersdorf und Umgebung Gr...  0.299320\n",
       "1  65 Jahre MMK Erzherzog Johann Edelschrott MV W...  0.288765\n",
       "2  Feuerwehrball war wieder ein voller Erfolg – s...  0.240959\n",
       "3  ÜBERGABE DES FRIEDENSLICHTES AN DIE FEUERWEHRE...  0.184045\n",
       "4  120 - Jahr - Feier Freiwillige Feuerwehr Edels...  0.184045"
      ],
      "text/html": [
       "<div>\n",
       "<style scoped>\n",
       "    .dataframe tbody tr th:only-of-type {\n",
       "        vertical-align: middle;\n",
       "    }\n",
       "\n",
       "    .dataframe tbody tr th {\n",
       "        vertical-align: top;\n",
       "    }\n",
       "\n",
       "    .dataframe thead th {\n",
       "        text-align: right;\n",
       "    }\n",
       "</style>\n",
       "<table border=\"1\" class=\"dataframe\">\n",
       "  <thead>\n",
       "    <tr style=\"text-align: right;\">\n",
       "      <th></th>\n",
       "      <th>Artikel</th>\n",
       "      <th>Rank</th>\n",
       "    </tr>\n",
       "  </thead>\n",
       "  <tbody>\n",
       "    <tr>\n",
       "      <th>0</th>\n",
       "      <td>Besuch Musikverein Wilfersdorf und Umgebung Gr...</td>\n",
       "      <td>0.299320</td>\n",
       "    </tr>\n",
       "    <tr>\n",
       "      <th>1</th>\n",
       "      <td>65 Jahre MMK Erzherzog Johann Edelschrott MV W...</td>\n",
       "      <td>0.288765</td>\n",
       "    </tr>\n",
       "    <tr>\n",
       "      <th>2</th>\n",
       "      <td>Feuerwehrball war wieder ein voller Erfolg – s...</td>\n",
       "      <td>0.240959</td>\n",
       "    </tr>\n",
       "    <tr>\n",
       "      <th>3</th>\n",
       "      <td>ÜBERGABE DES FRIEDENSLICHTES AN DIE FEUERWEHRE...</td>\n",
       "      <td>0.184045</td>\n",
       "    </tr>\n",
       "    <tr>\n",
       "      <th>4</th>\n",
       "      <td>120 - Jahr - Feier Freiwillige Feuerwehr Edels...</td>\n",
       "      <td>0.184045</td>\n",
       "    </tr>\n",
       "  </tbody>\n",
       "</table>\n",
       "</div>"
      ]
     },
     "execution_count": 39,
     "metadata": {},
     "output_type": "execute_result"
    }
   ],
   "execution_count": 39
  },
  {
   "metadata": {},
   "cell_type": "markdown",
   "source": [
    "## Gefundene Artikel an die KI weitergeben\n",
    "\n",
    "Da wir nun rudimentär in der Lage sind, relevante Artikel zur Anfrage zu finden, können wir diese An die KI weitergeben. Statt einer einzelnen Anfrage mit `api/generate` starten wir nun einen Chat mit `api/chat`. Am Anfang stellen wir die relevanten Artikel als Aussagen ein. Am Ende stellen wir unsere Frage dazu."
   ],
   "id": "d9735f0fe6609103"
  },
  {
   "metadata": {
    "ExecuteTime": {
     "end_time": "2025-04-26T02:57:36.851036Z",
     "start_time": "2025-04-26T02:57:36.710977Z"
    }
   },
   "cell_type": "code",
   "source": [
    "user_prompt = \"Wer besuchte das Jubiläum der Feuerwehr?\"\n",
    "relevant_articles = articles_for_prompt_fts(user_prompt)"
   ],
   "id": "4fe2b0bf759b8472",
   "outputs": [],
   "execution_count": 64
  },
  {
   "metadata": {},
   "cell_type": "markdown",
   "source": "Diese um die relevanten Artikel erweiterte Anfrage können wir nun an Ollama weitergeben:",
   "id": "f19768ca8b2b8a05"
  },
  {
   "metadata": {
    "ExecuteTime": {
     "end_time": "2025-04-26T03:08:31.059338Z",
     "start_time": "2025-04-26T03:08:23.655794Z"
    }
   },
   "cell_type": "code",
   "source": [
    "def gemeinde_response(prompt: str, relevant_articles: list[Article]) -> str:\n",
    "    messages = [\n",
    "        {\n",
    "            \"role\": \"user\",\n",
    "            \"content\": f\"# {article.heading}\\n\\n{article.content}\"\n",
    "        }\n",
    "        for article in relevant_articles\n",
    "    ]\n",
    "    messages.append({\n",
    "        \"role\": \"system\",\n",
    "        \"content\": (\n",
    "            \"Du bist Gemeinde-Angestellter einer steirischen Gemeinde. \"\n",
    "            \"Beantworte Fragen gezielt und kompakt. \"\n",
    "            # \"Fasse dich kurz.\"\n",
    "        ),\n",
    "    })\n",
    "    messages.append({\n",
    "        \"role\": \"user\",\n",
    "        \"content\": prompt,\n",
    "    })\n",
    "    response = requests.post(f\"{OLLAMA_URL}/api/chat\", json={\n",
    "        \"model\": OLLAMA_MODEL,\n",
    "        \"messages\": messages,\n",
    "        \"stream\": False\n",
    "    })\n",
    "    response.raise_for_status()\n",
    "    return response.json()[\"message\"][\"content\"]\n",
    "\n",
    "print(gemeinde_response(user_prompt, relevant_articles))"
   ],
   "id": "f32087cd88b13fc1",
   "outputs": [
    {
     "name": "stdout",
     "output_type": "stream",
     "text": [
      "Zu den Gästen des Jubiläumskonvents der Freiwilligen Feuerwehr Edelschrott gehörten:\n",
      "\n",
      "*   LH Mag. Drexler\n",
      "*   BRin Mag.a Elisabeth Grossmann\n",
      "*   Bereichskommandant LFR Christian Leitgeb\n",
      "*   Bgm. Mag. Georg Preßler\n",
      "*   Der Leiter des Seelsorgeraumes Voitsberg Mag. Martin Trummler\n",
      "*   Darüber hinaus zahlreiche Mitglieder der Marktgemeinde Edelschrott und der Feuerwehren des Abschnittes 4.\n"
     ]
    }
   ],
   "execution_count": 71
  },
  {
   "metadata": {},
   "cell_type": "markdown",
   "source": [
    "## Grenzen der Volltextsuche\n",
    "\n",
    "Wie oben beschrieben hat die Volltextsuche die Anfrage\n",
    "\n",
    "> Wer besuchte das Jubiläum der Feuerwehr?\n",
    "\n",
    "umgewandelt in den Suchausdruck\n",
    "\n",
    "> 'wer' | 'besucht' | 'jubilaum' | 'feuerwehr'\n",
    "\n",
    "Die Wörter \"wer\" und \"besucht\" waren hier eigentlich wenig relevant, können aber auch in Artikeln ohne Bezug zur Feuerwehr vorkommen. Vor allem bei längeren, komplexeren Anfragen können diese Wörter zu stark werden, und eigentlich wenig relevante Artikel einen hohen Rang erhalten. Das kann dazu führen, dass die tatsächlich wichtigsten Artikel gar nicht mehr in den Top-4 landen, und somit nicht mehr an die KI weitergegeben werden.\n",
    "\n",
    "Systeme wie Elasticsearch oder Solr können hier abhelfen, da sie erkennen, dass der Begriff \"feuerwehr\" über alle Dokumente seltener vorkommt als \"wer\", und damit eine höhere Relevanz hat. Der dabei verwendete Mechanismus heisst [tf-idf bzw. BM25](https://en.wikipedia.org/wiki/Okapi_BM25).\n",
    "\n",
    "Aber auch diese Systeme suchen nur nach konkreten Wörtern, können aber keine inhaltlich nahen Begriffe zuordnen. So liefert zum Beispiel die Frage\n",
    "\n",
    "> Wann darf ich eine Bohrmaschine in Betrieb nehmen?\n",
    "\n",
    "nicht wie erwartet die Lärmschutzverordnung, da der Begriff \"Bohrmaschine\" dort nicht vorkommt, obwohl inhaltlich zum Thema \"Lärm\" gehört."
   ],
   "id": "45459ae6cc84368e"
  },
  {
   "metadata": {
    "ExecuteTime": {
     "end_time": "2025-04-26T04:01:57.479892Z",
     "start_time": "2025-04-26T04:01:57.344217Z"
    }
   },
   "cell_type": "code",
   "source": [
    "for article in articles_for_prompt_fts(\"Wann darf ich eine Bohrmaschine in Betrieb nehmen?\"):\n",
    "    print(article.heading)"
   ],
   "id": "fb9e605510bcaecb",
   "outputs": [
    {
     "name": "stdout",
     "output_type": "stream",
     "text": [
      "Impulsberatung für Betriebe\n",
      "ERBRECHT - Warum und wann brauche ich ein Testament?\n",
      "TESTAMENT-Was ist zu beachten? Wann brauche ich ein Testament?\n",
      "Helfen Sie daher bitte mit, den Abwasserkanal und die Kläranlage von Abfällen frei zu halten um einen störungsfreien Betrieb zu gewährleisten.\n"
     ]
    }
   ],
   "execution_count": 76
  },
  {
   "metadata": {},
   "cell_type": "markdown",
   "source": [
    "## Einbettungen (embeddings)\n",
    "\n",
    "Einbettungen können die inhaltliche Nähe von Texten zueinander berechnen. Zum Beispiel sind Rasenmäher, Kettensägen und Bohrmaschinen alles Geräte, die viel Lärm machen.\n",
    "\n",
    "Um solche Zusammenhänge darstellen zu können, werden Texte vektorisiert. Dadurch ist jedes Wort (eigentlich: jeder Token) eine Reihe von Zahlen. Beim Vergleich mit anderen Zahlenreihen lässt sich dann eine Distanz berechnen."
   ],
   "id": "c275dce26e5cdc66"
  },
  {
   "metadata": {},
   "cell_type": "markdown",
   "source": "In der Praxis kommen sogenannte Embedding-Modelle zur Anwendung, die es ermöglichen, Texte in Zahlenreihen (Vektoren) umzuwandeln. Dazu biete Ollama die API-Route `/api/embed`an. Es [gibt mehrere Embedding-Modelle[(), wobei hier besonders Wert darauf zu legen ist, ob es auch die gewünschte Sprache unterstützt. Während viele Embedding-Modelle Englisch können, ist die Auswahl für Deutsch geringer. Im Folgenden verwenden wir als Embedding-Modell:",
   "id": "674cddf940b30117"
  },
  {
   "metadata": {
    "ExecuteTime": {
     "end_time": "2025-04-26T04:12:01.394823Z",
     "start_time": "2025-04-26T04:12:01.391249Z"
    }
   },
   "cell_type": "code",
   "source": [
    "from common.settings import OLLAMA_EMBEDDING_MODEL\n",
    "print(OLLAMA_EMBEDDING_MODEL)"
   ],
   "id": "c91c8467808046a2",
   "outputs": [
    {
     "name": "stdout",
     "output_type": "stream",
     "text": [
      "jina/jina-embeddings-v2-base-de\n"
     ]
    }
   ],
   "execution_count": 80
  },
  {
   "metadata": {
    "ExecuteTime": {
     "end_time": "2025-04-26T04:12:05.409437Z",
     "start_time": "2025-04-26T04:12:05.018947Z"
    }
   },
   "cell_type": "code",
   "source": [
    "def embedded(text: str) -> list[list[float]]:\n",
    "    response = requests.post(f\"{OLLAMA_URL}/api/embed\", json={\n",
    "        \"model\": OLLAMA_EMBEDDING_MODEL,\n",
    "        \"input\": text,\n",
    "        \"stream\": False\n",
    "    })\n",
    "    response.raise_for_status()\n",
    "    return response.json()[\"embeddings\"]\n",
    "\n",
    "embeddings = embedded(\"Der Himmel ist blau\")\n",
    "print(embeddings[0][:8])\n",
    "print(len(embeddings))\n",
    "print(len(embeddings[0]))\n"
   ],
   "id": "bf89f243bc441360",
   "outputs": [
    {
     "name": "stdout",
     "output_type": "stream",
     "text": [
      "[0.046996713, 0.013519583, 0.04195037, -0.038133215, 0.030279065, 0.031640753, -0.0022184385, 0.008842386]\n",
      "1\n",
      "768\n"
     ]
    }
   ],
   "execution_count": 81
  },
  {
   "metadata": {},
   "cell_type": "markdown",
   "source": "Um solche Embeddings in der Datenbank zu speichern, benötigen wir die [pgvektor]()-Erweiterung sowie ein eigenes Feld dafür beim Artikel:",
   "id": "5b8a01e15ed148f5"
  },
  {
   "metadata": {
    "SqlCellData": {
     "data_source_name": "gemeinde@localhost",
     "variableName$1": "df_sql7"
    },
    "ExecuteTime": {
     "end_time": "2025-04-26T04:12:09.818937Z",
     "start_time": "2025-04-26T04:12:09.760086Z"
    }
   },
   "cell_type": "code",
   "source": [
    "%%sql\n",
    "create extension if not exists vector;\n",
    "\n",
    "alter table article add column embedding vector(768);"
   ],
   "id": "f47a877faa0b884",
   "execution_count": null,
   "outputs": []
  },
  {
   "metadata": {},
   "cell_type": "markdown",
   "source": "Nun können wir mit Ollama die Embeddings berechnen und in der Datenbank ablegen:",
   "id": "a3c3969f502c1412"
  },
  {
   "metadata": {
    "ExecuteTime": {
     "end_time": "2025-04-26T04:12:53.454511Z",
     "start_time": "2025-04-26T04:12:16.839608Z"
    }
   },
   "cell_type": "code",
   "source": [
    "with psycopg.connect(POSTGRES_URI) as connection, connection.cursor() as cursor:\n",
    "    for article_id, heading, content in cursor.execute(\"select id, heading, content from article\"):\n",
    "        embeddings = embedded(f\"{heading}\\n{content}\")\n",
    "        assert len(embeddings) == 1, f\"Expected exactly one embedding for article {article_id} but found {len(embeddings)}.\"\n",
    "        data_to_update = embeddings[0]\n",
    "        assert len(data_to_update) == 768, f\"Expected exactly one embedding of length 768 for article {article_id} but found {len(data_to_update)}.\"\n",
    "        with connection.cursor() as update_cursor:\n",
    "            update_cursor.execute(\n",
    "                \"update article set embedding = %(embedding)s where id = %(id)s\",\n",
    "                {\"embedding\": str(data_to_update), \"id\": article_id}\n",
    "            )"
   ],
   "id": "65269f169f45ff62",
   "outputs": [],
   "execution_count": 82
  },
  {
   "metadata": {},
   "cell_type": "markdown",
   "source": "Danach sind die Vector-Daten ersichtlich:",
   "id": "a0803e422bea75a1"
  },
  {
   "metadata": {
    "SqlCellData": {
     "data_source_name": "gemeinde@localhost",
     "variableName$1": "df_sql8"
    },
    "ExecuteTime": {
     "end_time": "2025-04-26T04:13:24.453393Z",
     "start_time": "2025-04-26T04:13:21.823591Z"
    }
   },
   "cell_type": "code",
   "source": [
    "%%sql\n",
    "select heading, embedding from article order by id"
   ],
   "id": "6a86e6a187d104c2",
   "outputs": [
    {
     "data": {
      "text/plain": [
       "                                               heading  \\\n",
       "0                                              INHALT:   \n",
       "1    *Tourismusverband Region Graz: Wir sind Teil d...   \n",
       "2    *Einen angenehmen Frühling und schöne Osterfei...   \n",
       "3                                 Lärmschutzverordnung   \n",
       "4                                     HOHE GEBURTSTAGE   \n",
       "..                                                 ...   \n",
       "560             Aktuelles Edelschrotter Nachrichten 21   \n",
       "561  Ein Verein von Unternehmerinnen für Unternehme...   \n",
       "562                                           Infobox:   \n",
       "563                    Beratungstage in Voitsberg 2022   \n",
       "564                                           Anzeige:   \n",
       "\n",
       "                                             embedding  \n",
       "0    [0.016765302,0.019684585,-0.044099554,0.015038...  \n",
       "1    [-0.0071016005,0.029487496,-0.042749193,-0.006...  \n",
       "2    [0.0076119476,-0.03905524,-0.033205137,0.00174...  \n",
       "3    [0.02788295,-0.0033655178,0.023512166,-0.03086...  \n",
       "4    [0.035863068,-0.03226464,0.032213807,0.0047571...  \n",
       "..                                                 ...  \n",
       "560  [0.019535724,0.011082214,0.0040303315,-0.01743...  \n",
       "561  [-0.027129097,0.019150117,-0.03656817,0.035353...  \n",
       "562  [-0.010168171,-0.0020170733,-0.011564184,0.058...  \n",
       "563  [0.033390064,0.0062497603,-0.06273649,0.010411...  \n",
       "564  [0.010527864,-0.023588814,0.025764966,0.000207...  \n",
       "\n",
       "[565 rows x 2 columns]"
      ],
      "text/html": [
       "<div>\n",
       "<style scoped>\n",
       "    .dataframe tbody tr th:only-of-type {\n",
       "        vertical-align: middle;\n",
       "    }\n",
       "\n",
       "    .dataframe tbody tr th {\n",
       "        vertical-align: top;\n",
       "    }\n",
       "\n",
       "    .dataframe thead th {\n",
       "        text-align: right;\n",
       "    }\n",
       "</style>\n",
       "<table border=\"1\" class=\"dataframe\">\n",
       "  <thead>\n",
       "    <tr style=\"text-align: right;\">\n",
       "      <th></th>\n",
       "      <th>heading</th>\n",
       "      <th>embedding</th>\n",
       "    </tr>\n",
       "  </thead>\n",
       "  <tbody>\n",
       "    <tr>\n",
       "      <th>0</th>\n",
       "      <td>INHALT:</td>\n",
       "      <td>[0.016765302,0.019684585,-0.044099554,0.015038...</td>\n",
       "    </tr>\n",
       "    <tr>\n",
       "      <th>1</th>\n",
       "      <td>*Tourismusverband Region Graz: Wir sind Teil d...</td>\n",
       "      <td>[-0.0071016005,0.029487496,-0.042749193,-0.006...</td>\n",
       "    </tr>\n",
       "    <tr>\n",
       "      <th>2</th>\n",
       "      <td>*Einen angenehmen Frühling und schöne Osterfei...</td>\n",
       "      <td>[0.0076119476,-0.03905524,-0.033205137,0.00174...</td>\n",
       "    </tr>\n",
       "    <tr>\n",
       "      <th>3</th>\n",
       "      <td>Lärmschutzverordnung</td>\n",
       "      <td>[0.02788295,-0.0033655178,0.023512166,-0.03086...</td>\n",
       "    </tr>\n",
       "    <tr>\n",
       "      <th>4</th>\n",
       "      <td>HOHE GEBURTSTAGE</td>\n",
       "      <td>[0.035863068,-0.03226464,0.032213807,0.0047571...</td>\n",
       "    </tr>\n",
       "    <tr>\n",
       "      <th>...</th>\n",
       "      <td>...</td>\n",
       "      <td>...</td>\n",
       "    </tr>\n",
       "    <tr>\n",
       "      <th>560</th>\n",
       "      <td>Aktuelles Edelschrotter Nachrichten 21</td>\n",
       "      <td>[0.019535724,0.011082214,0.0040303315,-0.01743...</td>\n",
       "    </tr>\n",
       "    <tr>\n",
       "      <th>561</th>\n",
       "      <td>Ein Verein von Unternehmerinnen für Unternehme...</td>\n",
       "      <td>[-0.027129097,0.019150117,-0.03656817,0.035353...</td>\n",
       "    </tr>\n",
       "    <tr>\n",
       "      <th>562</th>\n",
       "      <td>Infobox:</td>\n",
       "      <td>[-0.010168171,-0.0020170733,-0.011564184,0.058...</td>\n",
       "    </tr>\n",
       "    <tr>\n",
       "      <th>563</th>\n",
       "      <td>Beratungstage in Voitsberg 2022</td>\n",
       "      <td>[0.033390064,0.0062497603,-0.06273649,0.010411...</td>\n",
       "    </tr>\n",
       "    <tr>\n",
       "      <th>564</th>\n",
       "      <td>Anzeige:</td>\n",
       "      <td>[0.010527864,-0.023588814,0.025764966,0.000207...</td>\n",
       "    </tr>\n",
       "  </tbody>\n",
       "</table>\n",
       "<p>565 rows × 2 columns</p>\n",
       "</div>"
      ]
     },
     "execution_count": 84,
     "metadata": {},
     "output_type": "execute_result"
    }
   ],
   "execution_count": 84
  },
  {
   "metadata": {},
   "cell_type": "markdown",
   "source": "Mit dem `<->` SQL-Operator können wir die euklidische Distanz zwischen 2 Vektoren berechnen. Damit brauchen wir nur noch unsere Suchanfrage in einen Vektor umrechnen, um damit die am ähnlichsten Dokumente zu erhalten:",
   "id": "4c15781d3066cd76"
  },
  {
   "metadata": {
    "ExecuteTime": {
     "end_time": "2025-04-26T04:15:34.897632Z",
     "start_time": "2025-04-26T04:15:34.819409Z"
    }
   },
   "cell_type": "code",
   "source": [
    "prompt_embeddings = embedded(\"Wann darf ich eine Bohrmaschine in Betrieb nehmen?\")\n",
    "with psycopg.connect(POSTGRES_URI) as connection, connection.cursor() as cursor:\n",
    "    result = pd.DataFrame(cursor.execute(\n",
    "        \"\"\"\n",
    "        select\n",
    "            heading,\n",
    "            embedding <-> %(prompt_embedding)s as distance\n",
    "        from\n",
    "            article\n",
    "        order by\n",
    "            distance\n",
    "        limit 5\n",
    "        \"\"\",\n",
    "        {\"prompt_embedding\": str(prompt_embeddings[0])}\n",
    "    ).fetchall(), columns=[\"Artikel\", \"Distanz\"])\n",
    "result"
   ],
   "id": "160fac3f69bf19e0",
   "outputs": [
    {
     "data": {
      "text/plain": [
       "                            Artikel   Distanz\n",
       "0              Lärmschutzverordnung  1.060040\n",
       "1              Lärmschutzverordnung  1.060040\n",
       "2              Lärmschutzverordnung  1.064703\n",
       "3              Lärmschutzverordnung  1.064953\n",
       "4  SICHER ZU HAUSE KOCHEN & GRILLEN  1.168708"
      ],
      "text/html": [
       "<div>\n",
       "<style scoped>\n",
       "    .dataframe tbody tr th:only-of-type {\n",
       "        vertical-align: middle;\n",
       "    }\n",
       "\n",
       "    .dataframe tbody tr th {\n",
       "        vertical-align: top;\n",
       "    }\n",
       "\n",
       "    .dataframe thead th {\n",
       "        text-align: right;\n",
       "    }\n",
       "</style>\n",
       "<table border=\"1\" class=\"dataframe\">\n",
       "  <thead>\n",
       "    <tr style=\"text-align: right;\">\n",
       "      <th></th>\n",
       "      <th>Artikel</th>\n",
       "      <th>Distanz</th>\n",
       "    </tr>\n",
       "  </thead>\n",
       "  <tbody>\n",
       "    <tr>\n",
       "      <th>0</th>\n",
       "      <td>Lärmschutzverordnung</td>\n",
       "      <td>1.060040</td>\n",
       "    </tr>\n",
       "    <tr>\n",
       "      <th>1</th>\n",
       "      <td>Lärmschutzverordnung</td>\n",
       "      <td>1.060040</td>\n",
       "    </tr>\n",
       "    <tr>\n",
       "      <th>2</th>\n",
       "      <td>Lärmschutzverordnung</td>\n",
       "      <td>1.064703</td>\n",
       "    </tr>\n",
       "    <tr>\n",
       "      <th>3</th>\n",
       "      <td>Lärmschutzverordnung</td>\n",
       "      <td>1.064953</td>\n",
       "    </tr>\n",
       "    <tr>\n",
       "      <th>4</th>\n",
       "      <td>SICHER ZU HAUSE KOCHEN &amp; GRILLEN</td>\n",
       "      <td>1.168708</td>\n",
       "    </tr>\n",
       "  </tbody>\n",
       "</table>\n",
       "</div>"
      ]
     },
     "execution_count": 86,
     "metadata": {},
     "output_type": "execute_result"
    }
   ],
   "execution_count": 86
  },
  {
   "metadata": {},
   "cell_type": "markdown",
   "source": "Der `<=>`-Operator berechnet die Cosinus-Distanz. Diese hat den Vorteil, normalisiert zu sein und immer zwischen -1 und +1 zu liegen.",
   "id": "c9aac2017d740448"
  },
  {
   "metadata": {
    "ExecuteTime": {
     "end_time": "2025-04-26T04:16:11.954669Z",
     "start_time": "2025-04-26T04:16:11.927151Z"
    }
   },
   "cell_type": "code",
   "source": [
    "with psycopg.connect(POSTGRES_URI) as connection, connection.cursor() as cursor:\n",
    "    result = pd.DataFrame(cursor.execute(\n",
    "        \"\"\"\n",
    "        select\n",
    "            heading,\n",
    "            embedding <=> %(prompt_embedding)s as distance\n",
    "        from\n",
    "            article\n",
    "        order by\n",
    "            distance\n",
    "        limit 5\n",
    "        \"\"\",\n",
    "        {\"prompt_embedding\": str(prompt_embeddings[0])}\n",
    "    ).fetchall(), columns=[\"Artikel\", \"Distanz\"])\n",
    "result"
   ],
   "id": "a06273dbc29ca382",
   "outputs": [
    {
     "data": {
      "text/plain": [
       "                            Artikel   Distanz\n",
       "0              Lärmschutzverordnung  0.561842\n",
       "1              Lärmschutzverordnung  0.561842\n",
       "2              Lärmschutzverordnung  0.566796\n",
       "3              Lärmschutzverordnung  0.567063\n",
       "4  SICHER ZU HAUSE KOCHEN & GRILLEN  0.682940"
      ],
      "text/html": [
       "<div>\n",
       "<style scoped>\n",
       "    .dataframe tbody tr th:only-of-type {\n",
       "        vertical-align: middle;\n",
       "    }\n",
       "\n",
       "    .dataframe tbody tr th {\n",
       "        vertical-align: top;\n",
       "    }\n",
       "\n",
       "    .dataframe thead th {\n",
       "        text-align: right;\n",
       "    }\n",
       "</style>\n",
       "<table border=\"1\" class=\"dataframe\">\n",
       "  <thead>\n",
       "    <tr style=\"text-align: right;\">\n",
       "      <th></th>\n",
       "      <th>Artikel</th>\n",
       "      <th>Distanz</th>\n",
       "    </tr>\n",
       "  </thead>\n",
       "  <tbody>\n",
       "    <tr>\n",
       "      <th>0</th>\n",
       "      <td>Lärmschutzverordnung</td>\n",
       "      <td>0.561842</td>\n",
       "    </tr>\n",
       "    <tr>\n",
       "      <th>1</th>\n",
       "      <td>Lärmschutzverordnung</td>\n",
       "      <td>0.561842</td>\n",
       "    </tr>\n",
       "    <tr>\n",
       "      <th>2</th>\n",
       "      <td>Lärmschutzverordnung</td>\n",
       "      <td>0.566796</td>\n",
       "    </tr>\n",
       "    <tr>\n",
       "      <th>3</th>\n",
       "      <td>Lärmschutzverordnung</td>\n",
       "      <td>0.567063</td>\n",
       "    </tr>\n",
       "    <tr>\n",
       "      <th>4</th>\n",
       "      <td>SICHER ZU HAUSE KOCHEN &amp; GRILLEN</td>\n",
       "      <td>0.682940</td>\n",
       "    </tr>\n",
       "  </tbody>\n",
       "</table>\n",
       "</div>"
      ]
     },
     "execution_count": 87,
     "metadata": {},
     "output_type": "execute_result"
    }
   ],
   "execution_count": 87
  },
  {
   "metadata": {},
   "cell_type": "markdown",
   "source": [
    "Je kleiner die Distanz, desto besser das Ergebnis. Da unsere `Article`-Klasse einen Rang benötigt, wo besser bedeutet \"größer\", können wir die Distanz durch Vorzeichenumkehr in einen Rang umwandeln,\n",
    "\n",
    "Dies können wir nun wieder in einer Funktion zusammenfassen, um wie zuvor mit der Volltextsuche passende Artikel in einer erweiterten Anfrage einzubinden:"
   ],
   "id": "db2660fb5306af37"
  },
  {
   "metadata": {
    "ExecuteTime": {
     "end_time": "2025-04-26T04:19:22.829958Z",
     "start_time": "2025-04-26T04:19:22.826573Z"
    }
   },
   "cell_type": "code",
   "source": [
    "def articles_for_prompt_vs(prompt: str) -> list[Article]:\n",
    "    \"\"\"\n",
    "    Top articles for prompt using vector similarity.\n",
    "    \"\"\"\n",
    "    with (\n",
    "        psycopg.connect(POSTGRES_URI) as connection,\n",
    "        connection.cursor(row_factory=class_row(Article)) as cursor\n",
    "    ):\n",
    "        prompt_embeddings = embedded(prompt)\n",
    "        return cursor.execute(\n",
    "            \"\"\"\n",
    "            select\n",
    "                1 - (embedding <=> %(prompt_embedding)s) as rank,\n",
    "                id,\n",
    "                heading,\n",
    "                content,\n",
    "                pdf_path\n",
    "            from\n",
    "                article\n",
    "            order by\n",
    "                rank desc\n",
    "            limit 5;\n",
    "            \"\"\",\n",
    "            {\"prompt_embedding\": str(prompt_embeddings[0])},\n",
    "        ).fetchall()"
   ],
   "id": "70faec532095be6e",
   "outputs": [],
   "execution_count": 90
  },
  {
   "metadata": {},
   "cell_type": "markdown",
   "source": [
    "## Alles zusammen\n",
    "\n",
    "Damit haben wir alle Bauteile, um unsere Anfragen über die Gemeinde-KI zu beantworten.\n",
    "\n",
    "Formulieren wir unsere Anfrage:"
   ],
   "id": "8a9bc42c89ded9c9"
  },
  {
   "metadata": {
    "ExecuteTime": {
     "end_time": "2025-04-26T04:19:02.293090Z",
     "start_time": "2025-04-26T04:19:02.289552Z"
    }
   },
   "cell_type": "code",
   "source": "user_prompt = \"Wann darf ich eine Bohrmaschine in Betrieb nehmen?\"",
   "id": "23b49c4c81f0cae2",
   "outputs": [],
   "execution_count": 88
  },
  {
   "metadata": {},
   "cell_type": "markdown",
   "source": "Dann finden wir relevante Artikel dazu:",
   "id": "fcd01b6902db2328"
  },
  {
   "metadata": {
    "ExecuteTime": {
     "end_time": "2025-04-26T04:48:14.921332Z",
     "start_time": "2025-04-26T04:48:14.172180Z"
    }
   },
   "cell_type": "code",
   "source": "relevant_articles = articles_for_prompt_vs(user_prompt)",
   "id": "954783b195d3e563",
   "outputs": [],
   "execution_count": 91
  },
  {
   "metadata": {},
   "cell_type": "markdown",
   "source": "Diese können wir sogleich anzeigen, um den Anwender Verweise geben zu können, wo er mehr information finden kann:",
   "id": "46c9430b3d2d6d13"
  },
  {
   "metadata": {
    "ExecuteTime": {
     "end_time": "2025-04-26T04:48:19.912147Z",
     "start_time": "2025-04-26T04:48:19.905930Z"
    }
   },
   "cell_type": "code",
   "source": [
    "pd.DataFrame(\n",
    "    [(article.heading, article.rank) for article in relevant_articles],\n",
    "    columns=[\"Artikel\", \"Rang\"],\n",
    ")"
   ],
   "id": "4bba45b93d1fd117",
   "outputs": [
    {
     "data": {
      "text/plain": [
       "                            Artikel      Rang\n",
       "0              Lärmschutzverordnung  0.438158\n",
       "1              Lärmschutzverordnung  0.438158\n",
       "2              Lärmschutzverordnung  0.433204\n",
       "3              Lärmschutzverordnung  0.432937\n",
       "4  SICHER ZU HAUSE KOCHEN & GRILLEN  0.317060"
      ],
      "text/html": [
       "<div>\n",
       "<style scoped>\n",
       "    .dataframe tbody tr th:only-of-type {\n",
       "        vertical-align: middle;\n",
       "    }\n",
       "\n",
       "    .dataframe tbody tr th {\n",
       "        vertical-align: top;\n",
       "    }\n",
       "\n",
       "    .dataframe thead th {\n",
       "        text-align: right;\n",
       "    }\n",
       "</style>\n",
       "<table border=\"1\" class=\"dataframe\">\n",
       "  <thead>\n",
       "    <tr style=\"text-align: right;\">\n",
       "      <th></th>\n",
       "      <th>Artikel</th>\n",
       "      <th>Rang</th>\n",
       "    </tr>\n",
       "  </thead>\n",
       "  <tbody>\n",
       "    <tr>\n",
       "      <th>0</th>\n",
       "      <td>Lärmschutzverordnung</td>\n",
       "      <td>0.438158</td>\n",
       "    </tr>\n",
       "    <tr>\n",
       "      <th>1</th>\n",
       "      <td>Lärmschutzverordnung</td>\n",
       "      <td>0.438158</td>\n",
       "    </tr>\n",
       "    <tr>\n",
       "      <th>2</th>\n",
       "      <td>Lärmschutzverordnung</td>\n",
       "      <td>0.433204</td>\n",
       "    </tr>\n",
       "    <tr>\n",
       "      <th>3</th>\n",
       "      <td>Lärmschutzverordnung</td>\n",
       "      <td>0.432937</td>\n",
       "    </tr>\n",
       "    <tr>\n",
       "      <th>4</th>\n",
       "      <td>SICHER ZU HAUSE KOCHEN &amp; GRILLEN</td>\n",
       "      <td>0.317060</td>\n",
       "    </tr>\n",
       "  </tbody>\n",
       "</table>\n",
       "</div>"
      ]
     },
     "execution_count": 92,
     "metadata": {},
     "output_type": "execute_result"
    }
   ],
   "execution_count": 92
  },
  {
   "metadata": {},
   "cell_type": "markdown",
   "source": "Diese Artikel können wir nutzen, um eine erweiterte Anfrage daraus abzuleiten:",
   "id": "d02ba76307a211dd"
  },
  {
   "metadata": {
    "ExecuteTime": {
     "end_time": "2025-04-26T04:56:16.796162Z",
     "start_time": "2025-04-26T04:56:15.987425Z"
    }
   },
   "cell_type": "code",
   "source": "print(gemeinde_response(\"Wann darf ich eine Bohrmaschine in Betrieb nehmen?\", relevant_articles))",
   "id": "399097b83143da8a",
   "outputs": [
    {
     "name": "stdout",
     "output_type": "stream",
     "text": [
      "In unserer Gemeinde dürfen motorbetriebene Bohrmaschinen nur an Sonn- und Feiertagen zwischen 08:00 und 18:00 Uhr betrieben werden.\n"
     ]
    }
   ],
   "execution_count": 96
  },
  {
   "metadata": {
    "ExecuteTime": {
     "end_time": "2025-04-26T04:56:02.916990Z",
     "start_time": "2025-04-26T04:55:59.523026Z"
    }
   },
   "cell_type": "code",
   "source": "print(gemeinde_response(\"Wann darf ich bohren?\", relevant_articles))",
   "id": "4500350aae9334d0",
   "outputs": [
    {
     "name": "stdout",
     "output_type": "stream",
     "text": [
      "Bitte beachten Sie, dass das Bohren in unserer Gemeinde durch die Lärmschutzverordnung eingeschränkt ist. \n",
      "\n",
      "**Generell gilt:** Bohren ist nur außerhalb der Ruhezeiten erlaubt. Diese sind:\n",
      "\n",
      "*   **Montag bis Freitag:** 08:00 - 12:00 Uhr und 14:00 - 18:00 Uhr\n",
      "*   **Samstag:** 08:00 - 12:00 Uhr\n",
      "*   **Sonntag & Feiertage:** Nicht erlaubt.\n",
      "\n",
      "Bitte informieren Sie sich über eventuelle weitere lokale Einschränkungen.\n"
     ]
    }
   ],
   "execution_count": 95
  },
  {
   "metadata": {
    "ExecuteTime": {
     "end_time": "2025-04-26T04:57:53.081409Z",
     "start_time": "2025-04-26T04:57:51.104986Z"
    }
   },
   "cell_type": "code",
   "source": "print(gemeinde_response(\"Ich möchte mein Bad renovieren. Zu welchen Zeiten darf ich schremmen und bohren?\", relevant_articles))",
   "id": "18e9dec3f3d8de69",
   "outputs": [
    {
     "name": "stdout",
     "output_type": "stream",
     "text": [
      "Guten Tag! Die Lärmschutzverordnung unserer Gemeinde sieht vor:\n",
      "\n",
      "*   **Montag bis Freitag:** 06:00 – 21:00 Uhr erlaubt.\n",
      "*   **Samstag:** 06:00 – 18:00 Uhr erlaubt.\n",
      "*   **Sonntag & Feiertage:** Arbeiten sind ganztägig verboten.\n",
      "\n",
      "Bitte beachten Sie, dass auch bei diesen Zeiten die üblichen Rücksichtnahmen geboten sind.\n"
     ]
    }
   ],
   "execution_count": 97
  },
  {
   "metadata": {},
   "cell_type": "markdown",
   "source": "Fazit: 3 Fragen, 3 Antworten.",
   "id": "fe8777c796461dba"
  },
  {
   "metadata": {},
   "cell_type": "code",
   "outputs": [],
   "execution_count": null,
   "source": "",
   "id": "887be0fa4524740a"
  }
 ],
 "metadata": {
  "kernelspec": {
   "display_name": "Python 3",
   "language": "python",
   "name": "python3"
  },
  "language_info": {
   "codemirror_mode": {
    "name": "ipython",
    "version": 2
   },
   "file_extension": ".py",
   "mimetype": "text/x-python",
   "name": "python",
   "nbconvert_exporter": "python",
   "pygments_lexer": "ipython2",
   "version": "2.7.6"
  }
 },
 "nbformat": 4,
 "nbformat_minor": 5
}
